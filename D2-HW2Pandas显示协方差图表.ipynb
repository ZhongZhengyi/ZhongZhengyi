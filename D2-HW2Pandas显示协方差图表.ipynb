{
 "cells": [
  {
   "cell_type": "code",
   "execution_count": 9,
   "metadata": {
    "collapsed": true
   },
   "outputs": [],
   "source": [
    "import numpy as np\n",
    "import pandas as pd\n",
    "import warnings\n",
    "import matplotlib.pyplot as plt\n",
    "warnings.filterwarnings('ignore')"
   ]
  },
  {
   "cell_type": "code",
   "execution_count": 10,
   "metadata": {
    "collapsed": true
   },
   "outputs": [],
   "source": [
    "stock1 = pd.read_excel('sz50.xlsx', sheetname = '600036.XSHG', index_col = 'datetime')\n",
    "stock2 = pd.read_excel('sz50.xlsx', sheetname = '600050.XSHG', index_col = 'datetime')\n",
    "stock3 = pd.read_excel('sz50.xlsx', sheetname = '601318.XSHG', index_col = 'datetime')"
   ]
  },
  {
   "cell_type": "code",
   "execution_count": 11,
   "metadata": {
    "collapsed": true
   },
   "outputs": [],
   "source": [
    "s1_change = pd.Series(stock1.close.pct_change(3), name = '600036.XSHG')\n",
    "s2_change = pd.Series(stock2.close.pct_change(3), name = '600050.XSHG')\n",
    "s3_change = pd.Series(stock3.close.pct_change(3), name = '601318.XSHG')"
   ]
  },
  {
   "cell_type": "code",
   "execution_count": 12,
   "metadata": {},
   "outputs": [
    {
     "name": "stdout",
     "output_type": "stream",
     "text": [
      "                     600036.XSHG  600050.XSHG  601318.XSHG\n",
      "datetime                                                  \n",
      "2017-11-14 15:00:00     0.035086    -0.041414     0.061659\n",
      "2017-11-15 15:00:00     0.029902    -0.029087    -0.009838\n",
      "2017-11-16 15:00:00     0.015578    -0.035141     0.040733\n",
      "2017-11-17 15:00:00     0.048565     0.014752     0.068856\n",
      "2017-11-20 15:00:00     0.095011     0.012397     0.094071\n"
     ]
    }
   ],
   "source": [
    "stock_change = pd.concat([s1_change, s2_change, s3_change], axis = 1).fillna(method='ffill')\n",
    "print(stock_change.loc['2017-11-14':'2017-11-20'])"
   ]
  },
  {
   "cell_type": "code",
   "execution_count": 13,
   "metadata": {},
   "outputs": [
    {
     "name": "stdout",
     "output_type": "stream",
     "text": [
      "                                 600036.XSHG  600050.XSHG  601318.XSHG\n",
      "datetime                                                              \n",
      "2017-11-17 15:00:00 600036.XSHG     0.000163     0.000040     0.000060\n",
      "                    600050.XSHG     0.000040     0.001499     0.000892\n",
      "                    601318.XSHG     0.000060     0.000892     0.001359\n",
      "2017-11-20 15:00:00 600036.XSHG     0.000926     0.000636     0.000833\n",
      "                    600050.XSHG     0.000636     0.000734     0.000623\n",
      "                    601318.XSHG     0.000833     0.000623     0.001524\n",
      "<class 'pandas.core.indexes.multi.MultiIndex'>\n"
     ]
    }
   ],
   "source": [
    "rolling_cov = stock_change.rolling(window = 5).cov()\n",
    "print(rolling_cov[-6:])\n",
    "print(type(rolling_cov.index))"
   ]
  },
  {
   "cell_type": "code",
   "execution_count": 14,
   "metadata": {},
   "outputs": [
    {
     "name": "stdout",
     "output_type": "stream",
     "text": [
      "<class 'pandas.core.panel.Panel'>\n",
      "Dimensions: 3 (items) x 215 (major_axis) x 3 (minor_axis)\n",
      "Items axis: 600036.XSHG to 601318.XSHG\n",
      "Major_axis axis: 2017-01-03 15:00:00 to 2017-11-20 15:00:00\n",
      "Minor_axis axis: 600036.XSHG to 601318.XSHG\n"
     ]
    }
   ],
   "source": [
    "rp_cov = rolling_cov.to_panel()\n",
    "print(rp_cov)"
   ]
  },
  {
   "cell_type": "code",
   "execution_count": 15,
   "metadata": {},
   "outputs": [
    {
     "data": {
      "text/plain": [
       "<matplotlib.legend.Legend at 0x2282c8fd6a0>"
      ]
     },
     "execution_count": 15,
     "metadata": {},
     "output_type": "execute_result"
    }
   ],
   "source": [
    "# plt.figure(figsize=(20, 2))\n",
    "# rolling_cov.unstack()['600036.XSHG', '600050.XSHG']\n",
    "# print(rolling_cov.unstack()['600036.XSHG', '600050.XSHG'])\n",
    "# plt.subplot(311)\n",
    "fig, (ax1, ax2, ax3) = plt.subplots(nrows = 3, ncols = 1, figsize = (14, 6))\n",
    "ax1.plot(rolling_cov.unstack()['600036.XSHG', '600050.XSHG'])\n",
    "ax1.legend(loc='upper right')\n",
    "ax2.plot(rolling_cov.unstack()['600036.XSHG', '601318.XSHG'])\n",
    "ax2.legend(loc='upper left')\n",
    "ax3.plot(rolling_cov.unstack()['600050.XSHG', '601318.XSHG'])\n",
    "ax3.legend(loc='upper right')\n",
    "# plt.plot(rolling_cov.unstack()['600036.XSHG', '600050.XSHG'])\n",
    "# plt.title('')"
   ]
  },
  {
   "cell_type": "code",
   "execution_count": null,
   "metadata": {
    "collapsed": true
   },
   "outputs": [],
   "source": []
  }
 ],
 "metadata": {
  "kernelspec": {
   "display_name": "Python 3",
   "language": "python",
   "name": "python3"
  },
  "language_info": {
   "codemirror_mode": {
    "name": "ipython",
    "version": 3
   },
   "file_extension": ".py",
   "mimetype": "text/x-python",
   "name": "python",
   "nbconvert_exporter": "python",
   "pygments_lexer": "ipython3",
   "version": "3.6.2"
  }
 },
 "nbformat": 4,
 "nbformat_minor": 2
}

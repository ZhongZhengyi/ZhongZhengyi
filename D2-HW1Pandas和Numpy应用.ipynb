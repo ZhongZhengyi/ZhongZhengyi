{
 "cells": [
  {
   "cell_type": "code",
   "execution_count": 1,
   "metadata": {
    "collapsed": true
   },
   "outputs": [],
   "source": [
    "import pandas as pd\n",
    "import numpy as np\n",
    "import warnings\n",
    "warnings.filterwarnings('ignore')"
   ]
  },
  {
   "cell_type": "code",
   "execution_count": 6,
   "metadata": {
    "collapsed": true
   },
   "outputs": [],
   "source": [
    "data1 = pd.read_excel('sz50.xlsx', sheetname = '600036.XSHG', index_col = 'datetime')\n",
    "data2 = pd.read_excel('sz50.xlsx', sheetname = '600050.XSHG', index_col = 'datetime')\n",
    "data3 = pd.read_excel('sz50.xlsx', sheetname = '601318.XSHG', index_col = 'datetime')"
   ]
  },
  {
   "cell_type": "code",
   "execution_count": 7,
   "metadata": {},
   "outputs": [
    {
     "name": "stdout",
     "output_type": "stream",
     "text": [
      "<class 'pandas.core.panel.Panel'>\n",
      "Dimensions: 3 (items) x 215 (major_axis) x 5 (minor_axis)\n",
      "Items axis: 600036.XSHG to 601318.XSHG\n",
      "Major_axis axis: 2017-01-03 15:00:00 to 2017-11-20 15:00:00\n",
      "Minor_axis axis: close to volume\n"
     ]
    }
   ],
   "source": [
    "from datetime import datetime\n",
    "import pandas as pd\n",
    "symbol=['600036.XSHG','600050.XSHG','601318.XSHG']\n",
    "data_dict = {}\n",
    "for s in symbol:\n",
    "    data =  pd.read_excel('sz50.xlsx',sheetname=s, index_col='datetime')\n",
    "    data_dict[s] = data.loc['2017-01-03':'2017-11-20']\n",
    "PN = pd.Panel(data_dict)\n",
    "print(PN)"
   ]
  },
  {
   "cell_type": "code",
   "execution_count": 9,
   "metadata": {},
   "outputs": [
    {
     "data": {
      "text/plain": [
       "array([[[  6.93100000e+01,   6.93900000e+01,   6.78000000e+01,\n",
       "           6.79200000e+01,   3.04498200e+07],\n",
       "        [  6.94200000e+01,   6.98900000e+01,   6.88800000e+01,\n",
       "           6.90800000e+01,   2.56657460e+07],\n",
       "        [  6.98500000e+01,   7.02700000e+01,   6.95800000e+01,\n",
       "           6.96600000e+01,   2.45626350e+07],\n",
       "        ..., \n",
       "        [  1.12130000e+02,   1.12130000e+02,   1.09730000e+02,\n",
       "           1.10770000e+02,   3.31381000e+07],\n",
       "        [  1.17240000e+02,   1.17670000e+02,   1.12930000e+02,\n",
       "           1.12930000e+02,   7.40142000e+07],\n",
       "        [  1.21820000e+02,   1.22500000e+02,   1.16200000e+02,\n",
       "           1.16920000e+02,   6.43889000e+07]],\n",
       "\n",
       "       [[  8.99000000e+00,   9.14000000e+00,   8.73000000e+00,\n",
       "           8.76000000e+00,   2.42291182e+08],\n",
       "        [  8.98000000e+00,   9.04000000e+00,   8.82000000e+00,\n",
       "           8.95000000e+00,   2.00960890e+08],\n",
       "        [  9.48000000e+00,   9.50000000e+00,   8.91000000e+00,\n",
       "           8.93000000e+00,   3.60200783e+08],\n",
       "        ..., \n",
       "        [  9.61000000e+00,   9.68000000e+00,   9.44000000e+00,\n",
       "           9.61000000e+00,   1.38455500e+08],\n",
       "        [  9.63000000e+00,   9.96000000e+00,   9.59000000e+00,\n",
       "           9.66000000e+00,   2.72769100e+08],\n",
       "        [  9.80000000e+00,   9.82000000e+00,   9.37000000e+00,\n",
       "           9.45000000e+00,   2.14754300e+08]],\n",
       "\n",
       "       [[  7.98900000e+01,   8.06500000e+01,   7.91100000e+01,\n",
       "           7.91500000e+01,   2.96870990e+07],\n",
       "        [  7.98700000e+01,   8.01600000e+01,   7.95300000e+01,\n",
       "           7.99400000e+01,   2.52573050e+07],\n",
       "        [  8.00200000e+01,   8.05000000e+01,   7.99100000e+01,\n",
       "           8.00200000e+01,   2.86895330e+07],\n",
       "        ..., \n",
       "        [  1.63520000e+02,   1.63720000e+02,   1.54320000e+02,\n",
       "           1.54470000e+02,   5.84197000e+07],\n",
       "        [  1.68580000e+02,   1.68690000e+02,   1.60970000e+02,\n",
       "           1.62690000e+02,   7.71057000e+07],\n",
       "        [  1.69570000e+02,   1.71270000e+02,   1.66190000e+02,\n",
       "           1.67460000e+02,   5.55280000e+07]]])"
      ]
     },
     "execution_count": 9,
     "metadata": {},
     "output_type": "execute_result"
    }
   ],
   "source": [
    "# pn = np.array(PN)\n",
    "pn = PN.values\n",
    "pn"
   ]
  },
  {
   "cell_type": "code",
   "execution_count": 10,
   "metadata": {},
   "outputs": [
    {
     "name": "stdout",
     "output_type": "stream",
     "text": [
      "[[ 106.22  106.94  105.94  112.13  110.89  108.14  107.34  107.78  107.98\n",
      "   106.18  107.86  108.1   108.02  108.02  110.41  111.81  111.25  112.13\n",
      "   117.24  121.82]\n",
      " [   8.53    8.56    8.62    8.88    9.25    9.24    9.43    9.25    9.02\n",
      "     9.15    9.63    9.5     9.9     9.97    9.96    9.49    9.68    9.61\n",
      "     9.63    9.8 ]\n",
      " [ 134.83  134.56  137.5   143.18  143.48  144.15  143.61  143.65  144.35\n",
      "   143.36  146.41  144.71  148.56  156.53  157.12  157.72  154.99  163.52\n",
      "   168.58  169.57]]\n"
     ]
    }
   ],
   "source": [
    "close_20 = pn[:,-20:,0]\n",
    "print(close_20)"
   ]
  },
  {
   "cell_type": "code",
   "execution_count": 11,
   "metadata": {},
   "outputs": [
    {
     "data": {
      "text/plain": [
       "array([[ 4.66551241,  4.67226793,  4.6628729 ,  4.71965891,  4.70853872,\n",
       "         4.68342668,  4.67600137,  4.68009211,  4.68194602,  4.66513577,\n",
       "         4.68083409,  4.68305672,  4.6823164 ,  4.6823164 ,  4.70420071,\n",
       "         4.716801  ,  4.71177992,  4.71965891,  4.76422312,  4.80254455],\n",
       "       [ 2.14358936,  2.14710019,  2.15408508,  2.18380156,  2.22462355,\n",
       "         2.22354189,  2.2438961 ,  2.22462355,  2.19944433,  2.21375388,\n",
       "         2.26488323,  2.2512918 ,  2.29253476,  2.29958058,  2.29857707,\n",
       "         2.25023861,  2.2700619 ,  2.26280422,  2.26488323,  2.28238239],\n",
       "       [ 4.90401473,  4.9020102 ,  4.92362392,  4.96410258,  4.96619565,\n",
       "         4.97085442,  4.96710129,  4.96737979,  4.97224091,  4.96535895,\n",
       "         4.98641091,  4.97473174,  5.00098892,  5.05324768,  5.05700984,\n",
       "         5.06082131,  5.0433606 ,  5.09693531,  5.12741041,  5.13326582]])"
      ]
     },
     "execution_count": 11,
     "metadata": {},
     "output_type": "execute_result"
    }
   ],
   "source": [
    "np.log(close_20)"
   ]
  },
  {
   "cell_type": "code",
   "execution_count": 12,
   "metadata": {},
   "outputs": [
    {
     "name": "stdout",
     "output_type": "stream",
     "text": [
      "[[ 0.00452916  0.00675551 -0.00939503  0.05678602 -0.01112019 -0.02511204\n",
      "  -0.00742532  0.00409075  0.00185391 -0.01681026  0.01569832  0.00222263\n",
      "  -0.00074033  0.          0.02188431  0.01260029 -0.00502108  0.00787899\n",
      "   0.0445642   0.03832143]\n",
      " [-0.00933496  0.00351083  0.00698489  0.02971647  0.04082199 -0.00108167\n",
      "   0.02035421 -0.01927255 -0.02517922  0.01430955  0.05112935 -0.01359143\n",
      "   0.04124296  0.00704583 -0.00100351 -0.04833846  0.01982329 -0.00725768\n",
      "   0.002079    0.01749916]\n",
      " [ 0.00535437 -0.00200453  0.02161372  0.04047866  0.00209307  0.00465877\n",
      "  -0.00375313  0.00027849  0.00486112 -0.00688196  0.02105196 -0.01167917\n",
      "   0.02625718  0.05225877  0.00376216  0.00381146 -0.01746071  0.05357471\n",
      "   0.03047511  0.00585541]]\n"
     ]
    }
   ],
   "source": [
    "stock1_close = np.log(close_20[0,:])\n",
    "stock2_close = np.log(close_20[1,:])\n",
    "stock3_close = np.log(close_20[2,:])\n",
    "stock1_return = stock1_close[1:]-stock1_close[0:19]\n",
    "stock1_return = np.insert(stock1_return, 0, stock1_close[0]-np.log(pn[:,-21:,0][0,:][0]))\n",
    "# print(stock1_return)\n",
    "stock2_return = stock2_close[1:]-stock2_close[0:19]\n",
    "stock2_return = np.insert(stock2_return, 0, stock2_close[0]-np.log(pn[:,-21:,0][1,:][0]))\n",
    "# print(stock2_return)\n",
    "stock3_return = stock3_close[1:]-stock3_close[0:19]\n",
    "stock3_return = np.insert(stock3_return, 0, stock3_close[0]-np.log(pn[:,-21:,0][2,:][0]))\n",
    "# print(stock3_return)\n",
    "stock_return = np.array([stock1_return, stock2_return, stock3_return])\n",
    "print(stock_return)"
   ]
  },
  {
   "cell_type": "code",
   "execution_count": 13,
   "metadata": {},
   "outputs": [
    {
     "name": "stdout",
     "output_type": "stream",
     "text": [
      "[[ 0.00452916  0.01128468  0.00188965  0.05867566  0.04755547  0.02244343\n",
      "   0.01501812  0.01910886  0.02096277  0.00415252  0.01985084  0.02207347\n",
      "   0.02133314  0.02133314  0.04321746  0.05581775  0.05079667  0.05867566\n",
      "   0.10323987  0.03832143]\n",
      " [-0.00933496 -0.00582413  0.00116077  0.03087724  0.07169923  0.07061757\n",
      "   0.09097178  0.07169923  0.04652002  0.06082956  0.11195891  0.09836748\n",
      "   0.13961044  0.14665627  0.14565275  0.09731429  0.11713758  0.1098799\n",
      "   0.11195891  0.01749916]\n",
      " [ 0.00535437  0.00334984  0.02496356  0.06544222  0.06753529  0.07219407\n",
      "   0.06844093  0.06871943  0.07358055  0.06669859  0.08775055  0.07607138\n",
      "   0.10232856  0.15458733  0.15834949  0.16216095  0.14470024  0.19827495\n",
      "   0.22875006  0.00585541]]\n"
     ]
    }
   ],
   "source": [
    "stock_add_return = np.array([stock1_return, stock2_return, stock3_return])\n",
    "# print(stock_add_return[:,:])\n",
    "for i in range(0, 3, 1):\n",
    "    for j in range(1, 20, 1):\n",
    "        # print(stock_return[i, 0:j])\n",
    "        s = stock_return[i, 0:j].sum()\n",
    "        stock_add_return[i, j-1] = s;\n",
    "print(stock_add_return)"
   ]
  },
  {
   "cell_type": "code",
   "execution_count": null,
   "metadata": {
    "collapsed": true
   },
   "outputs": [],
   "source": []
  }
 ],
 "metadata": {
  "kernelspec": {
   "display_name": "Python 3",
   "language": "python",
   "name": "python3"
  },
  "language_info": {
   "codemirror_mode": {
    "name": "ipython",
    "version": 3
   },
   "file_extension": ".py",
   "mimetype": "text/x-python",
   "name": "python",
   "nbconvert_exporter": "python",
   "pygments_lexer": "ipython3",
   "version": "3.6.2"
  }
 },
 "nbformat": 4,
 "nbformat_minor": 2
}
